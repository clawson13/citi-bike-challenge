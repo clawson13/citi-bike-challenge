{
 "cells": [
  {
   "cell_type": "code",
   "execution_count": null,
   "id": "3450e671",
   "metadata": {},
   "outputs": [],
   "source": [
    "# Dependencies and Setup\n",
    "import pandas as pd\n",
    "import numpy as np"
   ]
  },
  {
   "cell_type": "code",
   "execution_count": null,
   "id": "1ddbd949",
   "metadata": {},
   "outputs": [],
   "source": [
    "# Create list of 2019-2020 csv file names for import\n",
    "# (Note: Downloaded csv files saved outside GitHub respository due to memory restrictions)\n",
    "\n",
    "import_files = []\n",
    "\n",
    "for x in range(2019,2021):\n",
    "    for y in range(1,13):\n",
    "        if (len(str(y)) == 1):\n",
    "            month = '0' + str(y)\n",
    "            import_files.append(\"../Resources/\" + str(x) + month + \"-citibike-tripdata.csv\")\n",
    "            import_files.append(\"../Resources/JC-\" + str(x) + month + \"-citibike-tripdata.csv\")\n",
    "        else:\n",
    "            month = str(y)\n",
    "            import_files.append(\"../Resources/\" + str(x) + month + \"-citibike-tripdata.csv\")\n",
    "            import_files.append(\"../Resources/JC-\" + str(x) + month + \"-citibike-tripdata.csv\")\n",
    "            \n",
    "# csv data format change begins Feb'21, so also append just Jan'21 in old format\n",
    "import_files.append(\"../Resources/202101-citibike-tripdata.csv\")\n",
    "import_files.append(\"../Resources/JC-202101-citibike-tripdata.csv\")"
   ]
  },
  {
   "cell_type": "code",
   "execution_count": null,
   "id": "f9c3eb5b",
   "metadata": {},
   "outputs": [],
   "source": [
    "# Loop through 2019-Jan'2021 csv files and combine\n",
    "df_list = (pd.read_csv(file) for file in import_files)\n",
    "\n",
    "# Concatenate all DataFrames\n",
    "df = pd.concat(df_list, ignore_index=True)"
   ]
  },
  {
   "cell_type": "code",
   "execution_count": null,
   "id": "6de7e8cc",
   "metadata": {},
   "outputs": [],
   "source": [
    "# Update usertype values to reflect the 2021 dataset's better description\n",
    "# Also add column for 2021 dataset's added bike-type\n",
    "df['usertype'] = df['usertype'].replace(to_replace='Subscriber', value='member')\n",
    "df['usertype'] = df['usertype'].replace(to_replace='Customer', value='casual')\n",
    "df['rideable_type'] = 'N/A'"
   ]
  },
  {
   "cell_type": "code",
   "execution_count": null,
   "id": "c317cd72",
   "metadata": {},
   "outputs": [],
   "source": [
    "# Create list of 2021 csv file names for import (Note: Jan'21 already imported above)\n",
    "# (Note: Downloaded csv files saved outside GitHub respository due to memory restrictions)\n",
    "import_files_2021 = []\n",
    "\n",
    "for x in range(2021,2022):\n",
    "    for y in range(2,13):\n",
    "        if (len(str(y)) == 1):\n",
    "            month = '0' + str(y)\n",
    "            import_files_2021.append(\"../Resources/\" + str(x) + month + \"-citibike-tripdata.csv\")\n",
    "            import_files_2021.append(\"../Resources/JC-\" + str(x) + month + \"-citibike-tripdata.csv\")\n",
    "        else:\n",
    "            month = str(y)\n",
    "            import_files_2021.append(\"../Resources/\" + str(x) + month + \"-citibike-tripdata.csv\")\n",
    "            import_files_2021.append(\"../Resources/JC-\" + str(x) + month + \"-citibike-tripdata.csv\")   "
   ]
  },
  {
   "cell_type": "code",
   "execution_count": null,
   "id": "4f9c0493",
   "metadata": {},
   "outputs": [],
   "source": [
    "# Loop through 2021 csv files and combine\n",
    "df_list_2021 = (pd.read_csv(file) for file in import_files_2021)\n",
    "\n",
    "# Concatenate all DataFrames\n",
    "df_2021 = pd.concat(df_list_2021, ignore_index=True)"
   ]
  },
  {
   "cell_type": "code",
   "execution_count": null,
   "id": "41ae0d7a",
   "metadata": {
    "scrolled": true
   },
   "outputs": [],
   "source": [
    "# Convert start/end fields to datetime for trip duration calculation\n",
    "df_2021['started_at'] = pd.to_datetime(df_2021['started_at'])\n",
    "df_2021['ended_at'] = pd.to_datetime(df_2021['ended_at'])"
   ]
  },
  {
   "cell_type": "code",
   "execution_count": null,
   "id": "84929982",
   "metadata": {},
   "outputs": [],
   "source": [
    "# Add trip duration to dataset\n",
    "df_2021['tripduration'] = (df_2021['ended_at'] - df_2021['started_at']).dt.total_seconds()"
   ]
  },
  {
   "cell_type": "code",
   "execution_count": null,
   "id": "5e5ca773",
   "metadata": {},
   "outputs": [],
   "source": [
    "# Convert 2021 data to appendable dataframe\n",
    "df_2021_clean = pd.DataFrame({\n",
    "    'tripduration': df_2021['tripduration'],\n",
    "    'starttime': df_2021['started_at'],\n",
    "    'stoptime': df_2021['ended_at'],\n",
    "    'start station id': df_2021['start_station_id'],\n",
    "    'start station name': df_2021['start_station_name'],\n",
    "    'start station latitude': df_2021['start_lat'],\n",
    "    'start station longitude': df_2021['start_lng'],\n",
    "    'end station id': df_2021['end_station_id'],\n",
    "    'end station name': df_2021['end_station_name'],\n",
    "    'end station latitude': df_2021['end_lat'],\n",
    "    'end station longitude': df_2021['end_lng'],\n",
    "    'bikeid': 'N/A',\n",
    "    'usertype': df_2021['member_casual'],\n",
    "    'birth year': 'N/A',\n",
    "    'gender': 'N/A',\n",
    "    'rideable_type': df_2021['rideable_type']\n",
    "    })"
   ]
  },
  {
   "cell_type": "code",
   "execution_count": null,
   "id": "9c1c583c",
   "metadata": {},
   "outputs": [],
   "source": [
    "# Append 2021 data to 2019-2020\n",
    "df = df.append(df_2021_clean, ignore_index = True)"
   ]
  },
  {
   "cell_type": "code",
   "execution_count": null,
   "id": "f8a234e8",
   "metadata": {},
   "outputs": [],
   "source": [
    "# Convert start/end times to datetime\n",
    "df['starttime'] = pd.to_datetime(df['starttime'])\n",
    "df['stoptime'] = pd.to_datetime(df['stoptime'])\n",
    "\n",
    "# Create yyyy-mm column for later use with visualizations\n",
    "df['year_month'] = pd.to_datetime(df['starttime']).dt.to_period('M')"
   ]
  },
  {
   "cell_type": "code",
   "execution_count": null,
   "id": "99345023",
   "metadata": {},
   "outputs": [],
   "source": [
    "# Prepare summary data by month for export\n",
    "# Group data by year-month\n",
    "df_grouped = df.groupby([df['starttime'].dt.year.rename('year'), df['starttime'].dt.month_name().rename('month'), df['year_month']])"
   ]
  },
  {
   "cell_type": "code",
   "execution_count": null,
   "id": "750c8b6a",
   "metadata": {},
   "outputs": [],
   "source": [
    "# Calculate year/month summary data for visualizations\n",
    "total_rides = df_grouped['starttime'].count()\n",
    "avg_duration = df_grouped['tripduration'].mean() / 60\n",
    "total_member = df_grouped['usertype'].apply(lambda x: (x=='member').sum())\n",
    "total_casual = df_grouped['usertype'].apply(lambda x: (x=='casual').sum())\n",
    "total_classic = df_grouped['rideable_type'].apply(lambda x: (x=='classic_bike').sum())\n",
    "total_electric = df_grouped['rideable_type'].apply(lambda x: (x=='electric_bike').sum())"
   ]
  },
  {
   "cell_type": "code",
   "execution_count": null,
   "id": "49f5e561",
   "metadata": {},
   "outputs": [],
   "source": [
    "# Assemble year/month data in a DataFrame\n",
    "time_summary = pd.DataFrame({\n",
    "    'Total Rides': total_rides,\n",
    "    'Average Ride (min)': avg_duration.round(0),\n",
    "    'Member Rides': total_member,\n",
    "    'Casual Rides': total_casual,\n",
    "    'Classic Bike Rides': total_classic,\n",
    "    'Electric Bike Rides': total_electric\n",
    "    })"
   ]
  },
  {
   "cell_type": "code",
   "execution_count": null,
   "id": "46f33ba0",
   "metadata": {},
   "outputs": [],
   "source": [
    "# Export year/month data to csv for Tableau import\n",
    "time_summary.to_csv('Data/time_summary.csv')"
   ]
  },
  {
   "cell_type": "code",
   "execution_count": null,
   "id": "04674697",
   "metadata": {},
   "outputs": [],
   "source": [
    "# Prepare summary data by bike type for export\n",
    "# Filter records for classic/electric bikes only\n",
    "df_by_ride = df[(df['rideable_type'] == 'classic_bike') | (df['rideable_type'] == 'electric_bike')]"
   ]
  },
  {
   "cell_type": "code",
   "execution_count": null,
   "id": "9053148b",
   "metadata": {},
   "outputs": [],
   "source": [
    "# Group bike records by user type\n",
    "df_grouped_user = df_by_ride.groupby([df['usertype']])"
   ]
  },
  {
   "cell_type": "code",
   "execution_count": null,
   "id": "b83149a4",
   "metadata": {},
   "outputs": [],
   "source": [
    "# Calculate summary user figures by bike type\n",
    "classic_rides = df_grouped_user['rideable_type'].apply(lambda x: (x=='classic_bike').sum())\n",
    "electric_rides = df_grouped_user['rideable_type'].apply(lambda x: (x=='electric_bike').sum())"
   ]
  },
  {
   "cell_type": "code",
   "execution_count": null,
   "id": "a56ceb61",
   "metadata": {},
   "outputs": [],
   "source": [
    "# Assemble bike-type data in a DataFrame\n",
    "rides_summary = pd.DataFrame({\n",
    "    'Classic': classic_rides,\n",
    "    'Electric': electric_rides\n",
    "    })"
   ]
  },
  {
   "cell_type": "code",
   "execution_count": null,
   "id": "08c33e75",
   "metadata": {},
   "outputs": [],
   "source": [
    "# Export bike-type data to csv for Tableau import\n",
    "rides_summary.to_csv('Data/rides_summary.csv')"
   ]
  },
  {
   "cell_type": "code",
   "execution_count": null,
   "id": "5d2119f8",
   "metadata": {},
   "outputs": [],
   "source": [
    "# Group bike records by bike type\n",
    "df_grouped_bike = df_by_ride.groupby([df['rideable_type']])"
   ]
  },
  {
   "cell_type": "code",
   "execution_count": null,
   "id": "645b6fb1",
   "metadata": {},
   "outputs": [],
   "source": [
    "# Calculate average duration by bike type\n",
    "bike_duration = df_grouped_bike['tripduration'].mean() / 60"
   ]
  },
  {
   "cell_type": "code",
   "execution_count": null,
   "id": "02ce2a51",
   "metadata": {},
   "outputs": [],
   "source": [
    "# Export bike-type duration data to csv for Tableau import\n",
    "bike_duration.to_csv('Data/type_duration_summary.csv')"
   ]
  },
  {
   "cell_type": "code",
   "execution_count": null,
   "id": "307fed6c",
   "metadata": {},
   "outputs": [],
   "source": [
    "# Prepare summary data by hour for export\n",
    "# Group ride records by military hour (0-23)\n",
    "df_grouped_hour = df.groupby([df['starttime'].dt.year.rename('year'), df['starttime'].dt.hour.rename('Hour'), df['year_month']])"
   ]
  },
  {
   "cell_type": "code",
   "execution_count": null,
   "id": "b6fa649b",
   "metadata": {
    "scrolled": false
   },
   "outputs": [],
   "source": [
    "# Calculate number of rides started for each hour\n",
    "count_per_hour = df_grouped_hour['starttime'].count()"
   ]
  },
  {
   "cell_type": "code",
   "execution_count": null,
   "id": "4f47ec9c",
   "metadata": {},
   "outputs": [],
   "source": [
    "# Export hourly counts to csv for Tableau import\n",
    "count_per_hour.to_csv('Data/hour_summary.csv')"
   ]
  },
  {
   "cell_type": "code",
   "execution_count": null,
   "id": "f61d353b",
   "metadata": {},
   "outputs": [],
   "source": [
    "# Prepare summary data by station for export\n",
    "# Clean NaN \n",
    "df = df[df['start station name'].notna()]\n",
    "df = df[df['end station name'].notna()]\n",
    "df = df[df['start station latitude'].notna()]\n",
    "df = df[df['start station longitude'].notna()]\n",
    "df = df[df['year_month'].notna()]"
   ]
  },
  {
   "cell_type": "code",
   "execution_count": null,
   "id": "b7bec8ca",
   "metadata": {},
   "outputs": [],
   "source": [
    "# Group data by year-month, and start/end station names\n",
    "df_grouped_station = df.groupby([df['year_month'],\n",
    "                                 df['start station name'].rename('station name')])\n",
    "\n",
    "df_grouped_ends = df.groupby([df['year_month'],\n",
    "                              df['end station name'].rename('station name')])"
   ]
  },
  {
   "cell_type": "code",
   "execution_count": null,
   "id": "fcd6a8f8",
   "metadata": {},
   "outputs": [],
   "source": [
    "# Calculate number of rides started/ended at each station\n",
    "starts_by_station = df_grouped_station['start station name'].count().rename('start counts')\n",
    "ends_by_station = df_grouped_ends['end station name'].count().rename('end counts')"
   ]
  },
  {
   "cell_type": "code",
   "execution_count": null,
   "id": "1b418cdc",
   "metadata": {},
   "outputs": [],
   "source": [
    "starts_df = pd.DataFrame(starts_by_station)\n",
    "ends_df = pd.DataFrame(ends_by_station)"
   ]
  },
  {
   "cell_type": "code",
   "execution_count": null,
   "id": "37a72aeb",
   "metadata": {},
   "outputs": [],
   "source": [
    "# Merge start/end counts into one dataset on year-month-station\n",
    "station_data = pd.merge(starts_df, ends_df, how=\"outer\", on=[\"year_month\", \"station name\"])"
   ]
  },
  {
   "cell_type": "code",
   "execution_count": null,
   "id": "998ac422",
   "metadata": {},
   "outputs": [],
   "source": [
    "# Create DataFrame, and convert any NaN created by outer merge to zero\n",
    "station_data_df = pd.DataFrame(station_data)\n",
    "station_data_df = station_data_df.fillna(0)\n",
    "\n",
    "# Calculate total starts/stops for each station\n",
    "station_data_df['Total Starts/Stops'] = station_data_df['start counts'] + station_data_df['end counts']"
   ]
  },
  {
   "cell_type": "code",
   "execution_count": null,
   "id": "256e0295",
   "metadata": {},
   "outputs": [],
   "source": [
    "# Export summary station data to csv for Tableau import\n",
    "station_data_df.to_csv('Data/station_data.csv')"
   ]
  },
  {
   "cell_type": "code",
   "execution_count": null,
   "id": "6cee6122",
   "metadata": {
    "scrolled": true
   },
   "outputs": [],
   "source": [
    "# Prepare summary lat/lon data by station for export\n",
    "# Filter by station name, sort, drop NaN values, and remove duplicate records\n",
    "station_coord = df.filter(['start station name', 'start station latitude', 'start station longitude'], axis=1).copy()\n",
    "station_coord = station_coord.sort_values(\"start station name\")\n",
    "station_coord = station_coord.dropna(how='any')\n",
    "station_coord_final = station_coord.drop_duplicates(subset =\"start station name\", keep = 'first')"
   ]
  },
  {
   "cell_type": "code",
   "execution_count": null,
   "id": "49daaf19",
   "metadata": {},
   "outputs": [],
   "source": [
    "# Export station lat/lon data to csv for Tableau import\n",
    "station_coord_final.to_csv('Data/station_coord.csv')"
   ]
  }
 ],
 "metadata": {
  "kernelspec": {
   "display_name": "Python [conda env:PythonData38] *",
   "language": "python",
   "name": "conda-env-PythonData38-py"
  },
  "language_info": {
   "codemirror_mode": {
    "name": "ipython",
    "version": 3
   },
   "file_extension": ".py",
   "mimetype": "text/x-python",
   "name": "python",
   "nbconvert_exporter": "python",
   "pygments_lexer": "ipython3",
   "version": "3.8.12"
  }
 },
 "nbformat": 4,
 "nbformat_minor": 5
}
