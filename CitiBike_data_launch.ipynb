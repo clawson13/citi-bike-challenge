{
 "cells": [
  {
   "cell_type": "code",
   "execution_count": 57,
   "id": "3450e671",
   "metadata": {},
   "outputs": [],
   "source": [
    "# Dependencies and Setup\n",
    "import pandas as pd\n",
    "import numpy as np"
   ]
  },
  {
   "cell_type": "code",
   "execution_count": 58,
   "id": "1ddbd949",
   "metadata": {},
   "outputs": [],
   "source": [
    "# Create list of 2019-2020 csv file names for import\n",
    "# (Note: Downloaded csv files saved outside GitHub respository due to memory restrictions)\n",
    "\n",
    "import_files = []\n",
    "\n",
    "for x in range(2019,2021):\n",
    "    for y in range(1,13):\n",
    "        if (len(str(y)) == 1):\n",
    "            month = '0' + str(y)\n",
    "            import_files.append(\"../Resources/\" + str(x) + month + \"-citibike-tripdata.csv\")\n",
    "            import_files.append(\"../Resources/JC-\" + str(x) + month + \"-citibike-tripdata.csv\")\n",
    "        else:\n",
    "            month = str(y)\n",
    "            import_files.append(\"../Resources/\" + str(x) + month + \"-citibike-tripdata.csv\")\n",
    "            import_files.append(\"../Resources/JC-\" + str(x) + month + \"-citibike-tripdata.csv\")\n",
    "            \n",
    "# csv data format change begins Feb'21, so also append just Jan'21 in old format\n",
    "import_files.append(\"../Resources/202101-citibike-tripdata.csv\")\n",
    "import_files.append(\"../Resources/JC-202101-citibike-tripdata.csv\")"
   ]
  },
  {
   "cell_type": "code",
   "execution_count": 59,
   "id": "f9c3eb5b",
   "metadata": {},
   "outputs": [],
   "source": [
    "# Loop through 2019-Jan'2021 csv files and combine\n",
    "df_list = (pd.read_csv(file) for file in import_files)\n",
    "\n",
    "# Concatenate all DataFrames\n",
    "df = pd.concat(df_list, ignore_index=True)"
   ]
  },
  {
   "cell_type": "code",
   "execution_count": 60,
   "id": "6de7e8cc",
   "metadata": {},
   "outputs": [],
   "source": [
    "# Update usertype values to reflect the 2021 dataset's better description\n",
    "# Also add column for 2021 dataset's added bike-type\n",
    "df['usertype'] = df['usertype'].replace(to_replace='Subscriber', value='member')\n",
    "df['usertype'] = df['usertype'].replace(to_replace='Customer', value='casual')\n",
    "df['rideable_type'] = 'N/A'"
   ]
  },
  {
   "cell_type": "code",
   "execution_count": 61,
   "id": "c317cd72",
   "metadata": {},
   "outputs": [],
   "source": [
    "# Create list of 2021 csv file names for import (Note: Jan'21 already imported above)\n",
    "# (Note: Downloaded csv files saved outside GitHub respository due to memory restrictions)\n",
    "import_files_2021 = []\n",
    "\n",
    "for x in range(2021,2022):\n",
    "    for y in range(2,13):\n",
    "        if (len(str(y)) == 1):\n",
    "            month = '0' + str(y)\n",
    "            import_files_2021.append(\"../Resources/\" + str(x) + month + \"-citibike-tripdata.csv\")\n",
    "            import_files_2021.append(\"../Resources/JC-\" + str(x) + month + \"-citibike-tripdata.csv\")\n",
    "        else:\n",
    "            month = str(y)\n",
    "            import_files_2021.append(\"../Resources/\" + str(x) + month + \"-citibike-tripdata.csv\")\n",
    "            import_files_2021.append(\"../Resources/JC-\" + str(x) + month + \"-citibike-tripdata.csv\")   "
   ]
  },
  {
   "cell_type": "code",
   "execution_count": 62,
   "id": "4f9c0493",
   "metadata": {},
   "outputs": [
    {
     "name": "stderr",
     "output_type": "stream",
     "text": [
      "/Users/coreylawson-enos/opt/anaconda3/envs/PythonData38/lib/python3.8/site-packages/pandas/core/reshape/concat.py:348: DtypeWarning: Columns (5,7) have mixed types.Specify dtype option on import or set low_memory=False.\n",
      "  objs = list(objs)\n",
      "/Users/coreylawson-enos/opt/anaconda3/envs/PythonData38/lib/python3.8/site-packages/pandas/core/reshape/concat.py:348: DtypeWarning: Columns (7) have mixed types.Specify dtype option on import or set low_memory=False.\n",
      "  objs = list(objs)\n"
     ]
    }
   ],
   "source": [
    "# Loop through 2021 csv files and combine\n",
    "df_list_2021 = (pd.read_csv(file) for file in import_files_2021)\n",
    "\n",
    "# Concatenate all DataFrames\n",
    "df_2021 = pd.concat(df_list_2021, ignore_index=True)"
   ]
  },
  {
   "cell_type": "code",
   "execution_count": 63,
   "id": "41ae0d7a",
   "metadata": {
    "scrolled": true
   },
   "outputs": [],
   "source": [
    "# Convert start/end fields to datetime for trip duration calculation\n",
    "df_2021['started_at'] = pd.to_datetime(df_2021['started_at'])\n",
    "df_2021['ended_at'] = pd.to_datetime(df_2021['ended_at'])"
   ]
  },
  {
   "cell_type": "code",
   "execution_count": 64,
   "id": "84929982",
   "metadata": {},
   "outputs": [],
   "source": [
    "# Add trip duration to dataset\n",
    "df_2021['tripduration'] = (df_2021['ended_at'] - df_2021['started_at']).dt.total_seconds()"
   ]
  },
  {
   "cell_type": "code",
   "execution_count": 65,
   "id": "5e5ca773",
   "metadata": {},
   "outputs": [],
   "source": [
    "# Convert 2021 data to appendable dataframe\n",
    "df_2021_clean = pd.DataFrame({\n",
    "    'tripduration': df_2021['tripduration'],\n",
    "    'starttime': df_2021['started_at'],\n",
    "    'stoptime': df_2021['ended_at'],\n",
    "    'start station id': df_2021['start_station_id'],\n",
    "    'start station name': df_2021['start_station_name'],\n",
    "    'start station latitude': df_2021['start_lat'],\n",
    "    'start station longitude': df_2021['start_lng'],\n",
    "    'end station id': df_2021['end_station_id'],\n",
    "    'end station name': df_2021['end_station_name'],\n",
    "    'end station latitude': df_2021['end_lat'],\n",
    "    'end station longitude': df_2021['end_lng'],\n",
    "    'bikeid': 'N/A',\n",
    "    'usertype': df_2021['member_casual'],\n",
    "    'birth year': 'N/A',\n",
    "    'gender': 'N/A',\n",
    "    'rideable_type': df_2021['rideable_type']\n",
    "    })"
   ]
  },
  {
   "cell_type": "code",
   "execution_count": 66,
   "id": "9c1c583c",
   "metadata": {},
   "outputs": [],
   "source": [
    "# Append 2021 data to 2019-2020\n",
    "df = df.append(df_2021_clean, ignore_index = True)"
   ]
  },
  {
   "cell_type": "code",
   "execution_count": 67,
   "id": "f8a234e8",
   "metadata": {},
   "outputs": [],
   "source": [
    "# Convert start/end times to datetime\n",
    "df['starttime'] = pd.to_datetime(df['starttime'])\n",
    "df['stoptime'] = pd.to_datetime(df['stoptime'])\n",
    "\n",
    "# Create yyyy-mm column for later use with visualizations\n",
    "df['year_month'] = pd.to_datetime(df['starttime']).dt.to_period('M')"
   ]
  },
  {
   "cell_type": "code",
   "execution_count": 68,
   "id": "99345023",
   "metadata": {},
   "outputs": [],
   "source": [
    "# Prepare summary data by month for export\n",
    "# Group data by year-month\n",
    "df_grouped = df.groupby([df['starttime'].dt.year.rename('year'), df['starttime'].dt.month_name().rename('month'), df['year_month']])"
   ]
  },
  {
   "cell_type": "code",
   "execution_count": 69,
   "id": "750c8b6a",
   "metadata": {},
   "outputs": [],
   "source": [
    "# Calculate year/month summary data for visualizations\n",
    "total_rides = df_grouped['starttime'].count()\n",
    "avg_duration = df_grouped['tripduration'].mean() / 60\n",
    "total_member = df_grouped['usertype'].apply(lambda x: (x=='member').sum())\n",
    "total_casual = df_grouped['usertype'].apply(lambda x: (x=='casual').sum())\n",
    "total_classic = df_grouped['rideable_type'].apply(lambda x: (x=='classic_bike').sum())\n",
    "total_electric = df_grouped['rideable_type'].apply(lambda x: (x=='electric_bike').sum())"
   ]
  },
  {
   "cell_type": "code",
   "execution_count": 70,
   "id": "49f5e561",
   "metadata": {},
   "outputs": [],
   "source": [
    "# Assemble year/month data in a DataFrame\n",
    "time_summary = pd.DataFrame({\n",
    "    'Total Rides': total_rides,\n",
    "    'Average Ride (min)': avg_duration.round(0),\n",
    "    'Member Rides': total_member,\n",
    "    'Casual Rides': total_casual,\n",
    "    'Classic Bike Rides': total_classic,\n",
    "    'Electric Bike Rides': total_electric\n",
    "    })"
   ]
  },
  {
   "cell_type": "code",
   "execution_count": 71,
   "id": "46f33ba0",
   "metadata": {},
   "outputs": [],
   "source": [
    "# Export year/month data to csv for Tableau import\n",
    "time_summary.to_csv('Data/time_summary.csv')"
   ]
  },
  {
   "cell_type": "code",
   "execution_count": 15,
   "id": "04674697",
   "metadata": {},
   "outputs": [],
   "source": [
    "# Prepare summary data by bike type for export\n",
    "# Filter records for classic/electric bikes only\n",
    "df_by_ride = df[(df['rideable_type'] == 'classic_bike') | (df['rideable_type'] == 'electric_bike')]"
   ]
  },
  {
   "cell_type": "code",
   "execution_count": 16,
   "id": "9053148b",
   "metadata": {},
   "outputs": [],
   "source": [
    "# Group bike records by type\n",
    "df_grouped_user = df_by_ride.groupby([df['usertype']])"
   ]
  },
  {
   "cell_type": "code",
   "execution_count": 17,
   "id": "b83149a4",
   "metadata": {},
   "outputs": [],
   "source": [
    "# Calculate summary figures by bike type\n",
    "classic_rides = df_grouped_user['rideable_type'].apply(lambda x: (x=='classic_bike').sum())\n",
    "electric_rides = df_grouped_user['rideable_type'].apply(lambda x: (x=='electric_bike').sum())"
   ]
  },
  {
   "cell_type": "code",
   "execution_count": 18,
   "id": "a56ceb61",
   "metadata": {},
   "outputs": [],
   "source": [
    "# Assemble bike-type data in a DataFrame\n",
    "rides_summary = pd.DataFrame({\n",
    "    'Classic': classic_rides,\n",
    "    'Electric': electric_rides\n",
    "    })"
   ]
  },
  {
   "cell_type": "code",
   "execution_count": 19,
   "id": "08c33e75",
   "metadata": {},
   "outputs": [],
   "source": [
    "# Export bike-type data to csv for Tableau import\n",
    "rides_summary.to_csv('Data/rides_summary.csv')"
   ]
  },
  {
   "cell_type": "code",
   "execution_count": 20,
   "id": "307fed6c",
   "metadata": {},
   "outputs": [],
   "source": [
    "# Prepare summary data by hour for export\n",
    "# Group ride records by military hour (0-23)\n",
    "df_grouped_hour = df.groupby([df['starttime'].dt.year.rename('year'), df['starttime'].dt.hour.rename('Hour'), df['year_month']])"
   ]
  },
  {
   "cell_type": "code",
   "execution_count": 21,
   "id": "b6fa649b",
   "metadata": {
    "scrolled": false
   },
   "outputs": [],
   "source": [
    "# Calculate number of rides started for each hour\n",
    "count_per_hour = df_grouped_hour['starttime'].count()"
   ]
  },
  {
   "cell_type": "code",
   "execution_count": 22,
   "id": "4f47ec9c",
   "metadata": {},
   "outputs": [],
   "source": [
    "# Export hourly counts to csv for Tableau import\n",
    "count_per_hour.to_csv('Data/hour_summary.csv')"
   ]
  },
  {
   "cell_type": "code",
   "execution_count": 23,
   "id": "f61d353b",
   "metadata": {},
   "outputs": [],
   "source": [
    "# Prepare summary data by station for export\n",
    "# Clean NaN \n",
    "# df = df[df['starttime'].notna()]\n",
    "df = df[df['start station name'].notna()]\n",
    "# df = df[df['stoptime'].notna()]\n",
    "df = df[df['end station name'].notna()]\n",
    "df = df[df['start station latitude'].notna()]\n",
    "df = df[df['start station longitude'].notna()]\n",
    "# df = df[df['end station latitude'].notna()]\n",
    "# df = df[df['end station longitude'].notna()]\n",
    "df = df[df['year_month'].notna()]"
   ]
  },
  {
   "cell_type": "code",
   "execution_count": 24,
   "id": "b7bec8ca",
   "metadata": {},
   "outputs": [],
   "source": [
    "# Group data by year-month, and start/end station names\n",
    "df_grouped_station = df.groupby([df['year_month'],\n",
    "                                 df['start station name'].rename('station name')])\n",
    "\n",
    "df_grouped_ends = df.groupby([df['year_month'],\n",
    "                              df['end station name'].rename('station name')])"
   ]
  },
  {
   "cell_type": "code",
   "execution_count": 25,
   "id": "fcd6a8f8",
   "metadata": {},
   "outputs": [],
   "source": [
    "# Calculate number of rides started/ended at each station\n",
    "starts_by_station = df_grouped_station['start station name'].count().rename('start counts')\n",
    "ends_by_station = df_grouped_ends['end station name'].count().rename('end counts')"
   ]
  },
  {
   "cell_type": "code",
   "execution_count": 26,
   "id": "8217af92",
   "metadata": {},
   "outputs": [
    {
     "data": {
      "text/plain": [
       "year_month  station name                \n",
       "2019-01     1 Ave & E 110 St                 776\n",
       "            1 Ave & E 16 St                 4236\n",
       "            1 Ave & E 18 St                 3261\n",
       "            1 Ave & E 30 St                 2461\n",
       "            1 Ave & E 44 St                 2110\n",
       "                                            ... \n",
       "2021-12     Wyckoff Av & Stanhope St         926\n",
       "            Wyckoff Ave & Gates Ave          965\n",
       "            Wyckoff St & Nevins St           601\n",
       "            Wythe Ave & Metropolitan Ave    3001\n",
       "            Yankee Ferry Terminal            184\n",
       "Name: start counts, Length: 40860, dtype: int64"
      ]
     },
     "execution_count": 26,
     "metadata": {},
     "output_type": "execute_result"
    }
   ],
   "source": [
    "starts_by_station"
   ]
  },
  {
   "cell_type": "code",
   "execution_count": 27,
   "id": "35b8c8bb",
   "metadata": {},
   "outputs": [
    {
     "data": {
      "text/plain": [
       "year_month  station name                \n",
       "2019-01     1 Ave & E 110 St                 787\n",
       "            1 Ave & E 16 St                 4328\n",
       "            1 Ave & E 18 St                 3250\n",
       "            1 Ave & E 30 St                 2578\n",
       "            1 Ave & E 44 St                 2118\n",
       "                                            ... \n",
       "2021-12     Wyckoff Av & Stanhope St         935\n",
       "            Wyckoff Ave & Gates Ave          931\n",
       "            Wyckoff St & Nevins St           605\n",
       "            Wythe Ave & Metropolitan Ave    3140\n",
       "            Yankee Ferry Terminal            201\n",
       "Name: end counts, Length: 40977, dtype: int64"
      ]
     },
     "execution_count": 27,
     "metadata": {},
     "output_type": "execute_result"
    }
   ],
   "source": [
    "ends_by_station"
   ]
  },
  {
   "cell_type": "code",
   "execution_count": 28,
   "id": "1b418cdc",
   "metadata": {},
   "outputs": [],
   "source": [
    "starts_df = pd.DataFrame(starts_by_station)\n",
    "ends_df = pd.DataFrame(ends_by_station)"
   ]
  },
  {
   "cell_type": "code",
   "execution_count": 29,
   "id": "37a72aeb",
   "metadata": {},
   "outputs": [],
   "source": [
    "# Merge start/end counts into one dataset on year-month-station\n",
    "station_data = pd.merge(starts_df, ends_df, how=\"outer\", on=[\"year_month\", \"station name\"])"
   ]
  },
  {
   "cell_type": "code",
   "execution_count": 30,
   "id": "998ac422",
   "metadata": {},
   "outputs": [
    {
     "data": {
      "text/html": [
       "<div>\n",
       "<style scoped>\n",
       "    .dataframe tbody tr th:only-of-type {\n",
       "        vertical-align: middle;\n",
       "    }\n",
       "\n",
       "    .dataframe tbody tr th {\n",
       "        vertical-align: top;\n",
       "    }\n",
       "\n",
       "    .dataframe thead th {\n",
       "        text-align: right;\n",
       "    }\n",
       "</style>\n",
       "<table border=\"1\" class=\"dataframe\">\n",
       "  <thead>\n",
       "    <tr style=\"text-align: right;\">\n",
       "      <th></th>\n",
       "      <th></th>\n",
       "      <th>start counts</th>\n",
       "      <th>end counts</th>\n",
       "      <th>Total Starts/Stops</th>\n",
       "    </tr>\n",
       "    <tr>\n",
       "      <th>year_month</th>\n",
       "      <th>station name</th>\n",
       "      <th></th>\n",
       "      <th></th>\n",
       "      <th></th>\n",
       "    </tr>\n",
       "  </thead>\n",
       "  <tbody>\n",
       "    <tr>\n",
       "      <th rowspan=\"5\" valign=\"top\">2019-01</th>\n",
       "      <th>1 Ave &amp; E 110 St</th>\n",
       "      <td>776.0</td>\n",
       "      <td>787.0</td>\n",
       "      <td>1563.0</td>\n",
       "    </tr>\n",
       "    <tr>\n",
       "      <th>1 Ave &amp; E 16 St</th>\n",
       "      <td>4236.0</td>\n",
       "      <td>4328.0</td>\n",
       "      <td>8564.0</td>\n",
       "    </tr>\n",
       "    <tr>\n",
       "      <th>1 Ave &amp; E 18 St</th>\n",
       "      <td>3261.0</td>\n",
       "      <td>3250.0</td>\n",
       "      <td>6511.0</td>\n",
       "    </tr>\n",
       "    <tr>\n",
       "      <th>1 Ave &amp; E 30 St</th>\n",
       "      <td>2461.0</td>\n",
       "      <td>2578.0</td>\n",
       "      <td>5039.0</td>\n",
       "    </tr>\n",
       "    <tr>\n",
       "      <th>1 Ave &amp; E 44 St</th>\n",
       "      <td>2110.0</td>\n",
       "      <td>2118.0</td>\n",
       "      <td>4228.0</td>\n",
       "    </tr>\n",
       "    <tr>\n",
       "      <th>...</th>\n",
       "      <th>...</th>\n",
       "      <td>...</td>\n",
       "      <td>...</td>\n",
       "      <td>...</td>\n",
       "    </tr>\n",
       "    <tr>\n",
       "      <th rowspan=\"5\" valign=\"top\">2021-12</th>\n",
       "      <th>Morgan Bike Mechanics</th>\n",
       "      <td>0.0</td>\n",
       "      <td>5.0</td>\n",
       "      <td>5.0</td>\n",
       "    </tr>\n",
       "    <tr>\n",
       "      <th>Morgan Loading Docks</th>\n",
       "      <td>0.0</td>\n",
       "      <td>1.0</td>\n",
       "      <td>1.0</td>\n",
       "    </tr>\n",
       "    <tr>\n",
       "      <th>Nassau St\\t&amp; Duffield St</th>\n",
       "      <td>0.0</td>\n",
       "      <td>5.0</td>\n",
       "      <td>5.0</td>\n",
       "    </tr>\n",
       "    <tr>\n",
       "      <th>Pier 40 Dock Station</th>\n",
       "      <td>0.0</td>\n",
       "      <td>66.0</td>\n",
       "      <td>66.0</td>\n",
       "    </tr>\n",
       "    <tr>\n",
       "      <th>W 40 St &amp; 5 Ave</th>\n",
       "      <td>0.0</td>\n",
       "      <td>1.0</td>\n",
       "      <td>1.0</td>\n",
       "    </tr>\n",
       "  </tbody>\n",
       "</table>\n",
       "<p>40978 rows × 3 columns</p>\n",
       "</div>"
      ],
      "text/plain": [
       "                                     start counts  end counts  \\\n",
       "year_month station name                                         \n",
       "2019-01    1 Ave & E 110 St                 776.0       787.0   \n",
       "           1 Ave & E 16 St                 4236.0      4328.0   \n",
       "           1 Ave & E 18 St                 3261.0      3250.0   \n",
       "           1 Ave & E 30 St                 2461.0      2578.0   \n",
       "           1 Ave & E 44 St                 2110.0      2118.0   \n",
       "...                                           ...         ...   \n",
       "2021-12    Morgan Bike Mechanics              0.0         5.0   \n",
       "           Morgan Loading Docks               0.0         1.0   \n",
       "           Nassau St\\t& Duffield St           0.0         5.0   \n",
       "           Pier 40 Dock Station               0.0        66.0   \n",
       "           W 40 St & 5 Ave                    0.0         1.0   \n",
       "\n",
       "                                     Total Starts/Stops  \n",
       "year_month station name                                  \n",
       "2019-01    1 Ave & E 110 St                      1563.0  \n",
       "           1 Ave & E 16 St                       8564.0  \n",
       "           1 Ave & E 18 St                       6511.0  \n",
       "           1 Ave & E 30 St                       5039.0  \n",
       "           1 Ave & E 44 St                       4228.0  \n",
       "...                                                 ...  \n",
       "2021-12    Morgan Bike Mechanics                    5.0  \n",
       "           Morgan Loading Docks                     1.0  \n",
       "           Nassau St\\t& Duffield St                 5.0  \n",
       "           Pier 40 Dock Station                    66.0  \n",
       "           W 40 St & 5 Ave                          1.0  \n",
       "\n",
       "[40978 rows x 3 columns]"
      ]
     },
     "execution_count": 30,
     "metadata": {},
     "output_type": "execute_result"
    }
   ],
   "source": [
    "# Create DataFrame, and convert any NaN created by outer merge to zero\n",
    "station_data_df = pd.DataFrame(station_data)\n",
    "station_data_df = station_data_df.fillna(0)\n",
    "\n",
    "# Calculate total starts/stops for each station\n",
    "station_data_df['Total Starts/Stops'] = station_data_df['start counts'] + station_data_df['end counts']\n",
    "station_data_df"
   ]
  },
  {
   "cell_type": "code",
   "execution_count": 41,
   "id": "256e0295",
   "metadata": {},
   "outputs": [],
   "source": [
    "# Export summary station data to csv for Tableau import\n",
    "station_data_df.to_csv('Data/station_data.csv')"
   ]
  },
  {
   "cell_type": "code",
   "execution_count": 42,
   "id": "6cee6122",
   "metadata": {
    "scrolled": true
   },
   "outputs": [],
   "source": [
    "station_coord = df.filter(['start station name', 'start station latitude', 'start station longitude'], axis=1).copy()\n",
    "station_coord = station_coord.sort_values(\"start station name\")\n",
    "station_coord = station_coord.dropna(how='any')\n",
    "station_coord_final = station_coord.drop_duplicates(subset =\"start station name\", keep = 'first')"
   ]
  },
  {
   "cell_type": "code",
   "execution_count": 43,
   "id": "49daaf19",
   "metadata": {},
   "outputs": [],
   "source": [
    "# Export summary station data to csv for Tableau import\n",
    "station_coord_final.to_csv('Data/station_coord.csv')"
   ]
  },
  {
   "cell_type": "code",
   "execution_count": null,
   "id": "303a1e5d",
   "metadata": {},
   "outputs": [],
   "source": []
  }
 ],
 "metadata": {
  "kernelspec": {
   "display_name": "Python [conda env:PythonData38] *",
   "language": "python",
   "name": "conda-env-PythonData38-py"
  },
  "language_info": {
   "codemirror_mode": {
    "name": "ipython",
    "version": 3
   },
   "file_extension": ".py",
   "mimetype": "text/x-python",
   "name": "python",
   "nbconvert_exporter": "python",
   "pygments_lexer": "ipython3",
   "version": "3.8.12"
  }
 },
 "nbformat": 4,
 "nbformat_minor": 5
}
